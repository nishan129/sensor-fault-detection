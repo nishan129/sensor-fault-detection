{
 "cells": [
  {
   "cell_type": "code",
   "execution_count": 2,
   "metadata": {},
   "outputs": [],
   "source": [
    "from scipy.stats import ks_2samp\n",
    "import numpy as np"
   ]
  },
  {
   "cell_type": "code",
   "execution_count": 3,
   "metadata": {},
   "outputs": [],
   "source": [
    "a1 = np.arange(10)"
   ]
  },
  {
   "cell_type": "code",
   "execution_count": 6,
   "metadata": {},
   "outputs": [],
   "source": [
    "a2 = np.arange(20)"
   ]
  },
  {
   "cell_type": "code",
   "execution_count": 8,
   "metadata": {},
   "outputs": [],
   "source": [
    "ks = ks_2samp(a1,a2)"
   ]
  },
  {
   "cell_type": "code",
   "execution_count": 11,
   "metadata": {},
   "outputs": [
    {
     "data": {
      "text/plain": [
       "0.062288669185221024"
      ]
     },
     "execution_count": 11,
     "metadata": {},
     "output_type": "execute_result"
    }
   ],
   "source": [
    "ks[1]"
   ]
  },
  {
   "cell_type": "code",
   "execution_count": 13,
   "metadata": {},
   "outputs": [
    {
     "data": {
      "text/plain": [
       "0.062288669185221024"
      ]
     },
     "execution_count": 13,
     "metadata": {},
     "output_type": "execute_result"
    }
   ],
   "source": [
    "ks.pvalue"
   ]
  },
  {
   "cell_type": "code",
   "execution_count": 21,
   "metadata": {},
   "outputs": [],
   "source": [
    "test = \"D:/PW project/sensor_fault_detection/sensor-fault-detection/artifact/08_23_2023_13_32_39/data_ingestion/ingested/test.csv\""
   ]
  },
  {
   "cell_type": "code",
   "execution_count": 19,
   "metadata": {},
   "outputs": [],
   "source": [
    "train = \"D:/PW project/sensor_fault_detection/sensor-fault-detection/artifact/08_23_2023_13_32_39/data_ingestion/ingested/train.csv\""
   ]
  },
  {
   "cell_type": "code",
   "execution_count": 16,
   "metadata": {},
   "outputs": [],
   "source": [
    "import pandas as pd\n"
   ]
  },
  {
   "cell_type": "code",
   "execution_count": 22,
   "metadata": {},
   "outputs": [],
   "source": [
    "train_df = pd.read_csv(train)\n",
    "test_df = pd.read_csv(test)"
   ]
  },
  {
   "cell_type": "code",
   "execution_count": 25,
   "metadata": {},
   "outputs": [],
   "source": [
    "#ks_2samp(train_df,test_df)"
   ]
  },
  {
   "cell_type": "code",
   "execution_count": 30,
   "metadata": {},
   "outputs": [],
   "source": [
    "d1 = train_df['class']\n",
    "d2 = test_df['class']"
   ]
  },
  {
   "cell_type": "code",
   "execution_count": 31,
   "metadata": {},
   "outputs": [
    {
     "data": {
      "text/plain": [
       "KstestResult(statistic=0.0017251113271397056, pvalue=1.0)"
      ]
     },
     "execution_count": 31,
     "metadata": {},
     "output_type": "execute_result"
    }
   ],
   "source": [
    "ks_2samp(d1,d2)"
   ]
  },
  {
   "cell_type": "code",
   "execution_count": 3,
   "metadata": {},
   "outputs": [],
   "source": [
    "def get_drift_report(base_df,current_df,threshold=0.5):\n",
    "    \n",
    "    report = {}\n",
    "    for col in base_df.columns:\n",
    "        d1 = train_df[col]\n",
    "        d2 = current_df[col]\n",
    "        is_same_dist = ks_2samp(d1,d2)\n",
    "        if is_same_dist.pvalue >=threshold:\n",
    "            is_found = False\n",
    "            \n",
    "        else:\n",
    "            is_found = True\n",
    "        report.update({col:{\"p_value\": folat(is_same_dist.pvalue),\n",
    "                                \"drift_status\": is_found}})\n",
    "            \n",
    "    return report\n",
    "            "
   ]
  },
  {
   "cell_type": "code",
   "execution_count": 37,
   "metadata": {},
   "outputs": [
    {
     "data": {
      "text/plain": [
       "{'class': {'p_value': 1.0, 'drift_status': False},\n",
       " 'aa_000': {'p_value': 0.4181750219645941, 'drift_status': True},\n",
       " 'ab_000': {'p_value': 0.9991316711438124, 'drift_status': False},\n",
       " 'ac_000': {'p_value': 0.6850341798555948, 'drift_status': False},\n",
       " 'ad_000': {'p_value': 0.09002295503682889, 'drift_status': True},\n",
       " 'ae_000': {'p_value': 0.9591609977004585, 'drift_status': False},\n",
       " 'af_000': {'p_value': 0.9761663760983371, 'drift_status': False},\n",
       " 'ag_000': {'p_value': 1.0, 'drift_status': False},\n",
       " 'ag_001': {'p_value': 0.9999999973594369, 'drift_status': False},\n",
       " 'ag_002': {'p_value': 0.9313706156304293, 'drift_status': False},\n",
       " 'ag_003': {'p_value': 0.7166713945223713, 'drift_status': False},\n",
       " 'ag_004': {'p_value': 0.34597465950910755, 'drift_status': True},\n",
       " 'ag_005': {'p_value': 0.4926702694707573, 'drift_status': True},\n",
       " 'ag_006': {'p_value': 0.33243428477624903, 'drift_status': True},\n",
       " 'ag_007': {'p_value': 0.2647382774093542, 'drift_status': True},\n",
       " 'ag_008': {'p_value': 0.27230103500305136, 'drift_status': True},\n",
       " 'ag_009': {'p_value': 0.24323256949203853, 'drift_status': True},\n",
       " 'ah_000': {'p_value': 0.15702895244767134, 'drift_status': True},\n",
       " 'ai_000': {'p_value': 0.9999910110151782, 'drift_status': False},\n",
       " 'aj_000': {'p_value': 0.8878573335873637, 'drift_status': False},\n",
       " 'ak_000': {'p_value': 1.0, 'drift_status': False},\n",
       " 'al_000': {'p_value': 0.697344151669673, 'drift_status': False},\n",
       " 'am_0': {'p_value': 0.7955374080969727, 'drift_status': False},\n",
       " 'an_000': {'p_value': 0.14628609581544139, 'drift_status': True},\n",
       " 'ao_000': {'p_value': 0.15532549766228387, 'drift_status': True},\n",
       " 'ap_000': {'p_value': 0.36812519067653804, 'drift_status': True},\n",
       " 'aq_000': {'p_value': 0.3569837105946466, 'drift_status': True},\n",
       " 'ar_000': {'p_value': 0.9999999999999999, 'drift_status': False},\n",
       " 'as_000': {'p_value': 0.9999999999999983, 'drift_status': False},\n",
       " 'at_000': {'p_value': 0.7532509630569876, 'drift_status': False},\n",
       " 'au_000': {'p_value': 0.9999999999999236, 'drift_status': False},\n",
       " 'av_000': {'p_value': 0.45732790075349306, 'drift_status': True},\n",
       " 'ax_000': {'p_value': 0.9652697701636206, 'drift_status': False},\n",
       " 'ay_000': {'p_value': 0.9999999999990935, 'drift_status': False},\n",
       " 'ay_001': {'p_value': 0.9999999999998187, 'drift_status': False},\n",
       " 'ay_002': {'p_value': 0.9999999999995883, 'drift_status': False},\n",
       " 'ay_003': {'p_value': 1.0, 'drift_status': False},\n",
       " 'ay_004': {'p_value': 0.9999999998221414, 'drift_status': False},\n",
       " 'ay_005': {'p_value': 0.6151439707116746, 'drift_status': False},\n",
       " 'ay_006': {'p_value': 0.44949076737728244, 'drift_status': True},\n",
       " 'ay_007': {'p_value': 0.24159059248703674, 'drift_status': True},\n",
       " 'ay_008': {'p_value': 0.5263836148311775, 'drift_status': False},\n",
       " 'ay_009': {'p_value': 0.9999999957842078, 'drift_status': False},\n",
       " 'az_000': {'p_value': 0.45720980096514807, 'drift_status': True},\n",
       " 'az_001': {'p_value': 0.617640348808728, 'drift_status': False},\n",
       " 'az_002': {'p_value': 0.9230713561557483, 'drift_status': False},\n",
       " 'az_003': {'p_value': 0.6918275524545849, 'drift_status': False},\n",
       " 'az_004': {'p_value': 0.8725698012108604, 'drift_status': False},\n",
       " 'az_005': {'p_value': 0.8318330072148138, 'drift_status': False},\n",
       " 'az_006': {'p_value': 0.4167555156777698, 'drift_status': True},\n",
       " 'az_007': {'p_value': 0.875504511044829, 'drift_status': False},\n",
       " 'az_008': {'p_value': 0.9999999998911853, 'drift_status': False},\n",
       " 'az_009': {'p_value': 1.0, 'drift_status': False},\n",
       " 'ba_000': {'p_value': 0.39761781231143845, 'drift_status': True},\n",
       " 'ba_001': {'p_value': 0.5475229043498465, 'drift_status': False},\n",
       " 'ba_002': {'p_value': 0.6927092956018575, 'drift_status': False},\n",
       " 'ba_003': {'p_value': 0.4333992559417448, 'drift_status': True},\n",
       " 'ba_004': {'p_value': 0.4218892429847316, 'drift_status': True},\n",
       " 'ba_005': {'p_value': 0.44204265419263156, 'drift_status': True},\n",
       " 'ba_006': {'p_value': 0.29140859629034943, 'drift_status': True},\n",
       " 'ba_007': {'p_value': 0.2997766122421601, 'drift_status': True},\n",
       " 'ba_008': {'p_value': 0.540216587563777, 'drift_status': False},\n",
       " 'ba_009': {'p_value': 0.03429487086668781, 'drift_status': True},\n",
       " 'bb_000': {'p_value': 0.2274213560616798, 'drift_status': True},\n",
       " 'bc_000': {'p_value': 0.9999996324153003, 'drift_status': False},\n",
       " 'bd_000': {'p_value': 0.8593457947217068, 'drift_status': False},\n",
       " 'be_000': {'p_value': 0.46555023424800046, 'drift_status': True},\n",
       " 'bf_000': {'p_value': 0.9706553690412649, 'drift_status': False},\n",
       " 'bg_000': {'p_value': 0.17448703172643631, 'drift_status': True},\n",
       " 'bh_000': {'p_value': 0.31123459597153247, 'drift_status': True},\n",
       " 'bi_000': {'p_value': 0.18060623884638283, 'drift_status': True},\n",
       " 'bj_000': {'p_value': 0.5138336354226724, 'drift_status': False},\n",
       " 'bk_000': {'p_value': 0.12194894248322441, 'drift_status': True},\n",
       " 'bl_000': {'p_value': 0.37731506082528443, 'drift_status': True},\n",
       " 'bm_000': {'p_value': 0.17598245692851144, 'drift_status': True},\n",
       " 'bn_000': {'p_value': 0.6585273385945318, 'drift_status': False},\n",
       " 'bo_000': {'p_value': 0.42647979356500654, 'drift_status': True},\n",
       " 'bp_000': {'p_value': 0.6225516320126568, 'drift_status': False},\n",
       " 'bq_000': {'p_value': 0.8036179540364047, 'drift_status': False},\n",
       " 'br_000': {'p_value': 0.8965477410706227, 'drift_status': False},\n",
       " 'bs_000': {'p_value': 0.3403948105372335, 'drift_status': True},\n",
       " 'bt_000': {'p_value': 0.40328084952273, 'drift_status': True},\n",
       " 'bu_000': {'p_value': 0.21527048394301063, 'drift_status': True},\n",
       " 'bv_000': {'p_value': 0.21527048394301063, 'drift_status': True},\n",
       " 'bx_000': {'p_value': 0.3469506393524635, 'drift_status': True},\n",
       " 'by_000': {'p_value': 0.17405508157204697, 'drift_status': True},\n",
       " 'bz_000': {'p_value': 0.30801336181381667, 'drift_status': True},\n",
       " 'ca_000': {'p_value': 0.09468168510671193, 'drift_status': True},\n",
       " 'cb_000': {'p_value': 0.2631866469750349, 'drift_status': True},\n",
       " 'cc_000': {'p_value': 0.336792561868411, 'drift_status': True},\n",
       " 'cd_000': {'p_value': 1.0, 'drift_status': False},\n",
       " 'ce_000': {'p_value': 0.24874309312571097, 'drift_status': True},\n",
       " 'cf_000': {'p_value': 0.9175011650168778, 'drift_status': False},\n",
       " 'cg_000': {'p_value': 0.007242611844220318, 'drift_status': True},\n",
       " 'ch_000': {'p_value': 0.932852796805997, 'drift_status': False},\n",
       " 'ci_000': {'p_value': 0.374298793344516, 'drift_status': True},\n",
       " 'cj_000': {'p_value': 0.9973500759462629, 'drift_status': False},\n",
       " 'ck_000': {'p_value': 0.047711981725757746, 'drift_status': True},\n",
       " 'cl_000': {'p_value': 0.9999999979643063, 'drift_status': False},\n",
       " 'cm_000': {'p_value': 0.9533839072453727, 'drift_status': False},\n",
       " 'cn_000': {'p_value': 0.998349592382179, 'drift_status': False},\n",
       " 'cn_001': {'p_value': 0.6773556423219973, 'drift_status': False},\n",
       " 'cn_002': {'p_value': 0.4648684157621348, 'drift_status': True},\n",
       " 'cn_003': {'p_value': 0.7948723294699167, 'drift_status': False},\n",
       " 'cn_004': {'p_value': 0.48572086945396886, 'drift_status': True},\n",
       " 'cn_005': {'p_value': 0.3801548415292352, 'drift_status': True},\n",
       " 'cn_006': {'p_value': 0.37347104453323443, 'drift_status': True},\n",
       " 'cn_007': {'p_value': 0.2788895212259016, 'drift_status': True},\n",
       " 'cn_008': {'p_value': 0.645146872160288, 'drift_status': False},\n",
       " 'cn_009': {'p_value': 0.32349245730387777, 'drift_status': True},\n",
       " 'co_000': {'p_value': 0.1047975712991902, 'drift_status': True},\n",
       " 'cp_000': {'p_value': 0.7206563382522924, 'drift_status': False},\n",
       " 'cq_000': {'p_value': 0.21527048394301063, 'drift_status': True},\n",
       " 'cr_000': {'p_value': 1.0, 'drift_status': False},\n",
       " 'cs_000': {'p_value': 0.3869078488950687, 'drift_status': True},\n",
       " 'cs_001': {'p_value': 0.5540935361047257, 'drift_status': False},\n",
       " 'cs_002': {'p_value': 0.425487714551387, 'drift_status': True},\n",
       " 'cs_003': {'p_value': 0.08538017274090459, 'drift_status': True},\n",
       " 'cs_004': {'p_value': 0.6980991174954484, 'drift_status': False},\n",
       " 'cs_005': {'p_value': 0.6662609662770468, 'drift_status': False},\n",
       " 'cs_006': {'p_value': 0.2172739822233818, 'drift_status': True},\n",
       " 'cs_007': {'p_value': 0.16127048905053065, 'drift_status': True},\n",
       " 'cs_008': {'p_value': 0.2515819636006045, 'drift_status': True},\n",
       " 'cs_009': {'p_value': 1.0, 'drift_status': False},\n",
       " 'ct_000': {'p_value': 0.025642113467687966, 'drift_status': True},\n",
       " 'cu_000': {'p_value': 0.2796474014670738, 'drift_status': True},\n",
       " 'cv_000': {'p_value': 0.01698929581512985, 'drift_status': True},\n",
       " 'cx_000': {'p_value': 0.23026545452917002, 'drift_status': True},\n",
       " 'cy_000': {'p_value': 0.5878569490500809, 'drift_status': False},\n",
       " 'cz_000': {'p_value': 0.006095332685126662, 'drift_status': True},\n",
       " 'da_000': {'p_value': 0.6183726906128766, 'drift_status': False},\n",
       " 'db_000': {'p_value': 0.1709291093338714, 'drift_status': True},\n",
       " 'dc_000': {'p_value': 0.02566862516282642, 'drift_status': True},\n",
       " 'dd_000': {'p_value': 0.33560807496956757, 'drift_status': True},\n",
       " 'de_000': {'p_value': 0.9721556851520916, 'drift_status': False},\n",
       " 'df_000': {'p_value': 1.0, 'drift_status': False},\n",
       " 'dg_000': {'p_value': 0.9999999999999125, 'drift_status': False},\n",
       " 'dh_000': {'p_value': 0.9998999880306271, 'drift_status': False},\n",
       " 'di_000': {'p_value': 0.9999997660998775, 'drift_status': False},\n",
       " 'dj_000': {'p_value': 1.0, 'drift_status': False},\n",
       " 'dk_000': {'p_value': 1.0, 'drift_status': False},\n",
       " 'dl_000': {'p_value': 1.0, 'drift_status': False},\n",
       " 'dm_000': {'p_value': 1.0, 'drift_status': False},\n",
       " 'dn_000': {'p_value': 0.28122932783342414, 'drift_status': True},\n",
       " 'do_000': {'p_value': 0.15402803244585705, 'drift_status': True},\n",
       " 'dp_000': {'p_value': 0.1577717356352083, 'drift_status': True},\n",
       " 'dq_000': {'p_value': 0.4575860260408531, 'drift_status': True},\n",
       " 'dr_000': {'p_value': 0.4575674297313961, 'drift_status': True},\n",
       " 'ds_000': {'p_value': 0.492761030141604, 'drift_status': True},\n",
       " 'dt_000': {'p_value': 0.37478469745057896, 'drift_status': True},\n",
       " 'du_000': {'p_value': 0.505809746052851, 'drift_status': False},\n",
       " 'dv_000': {'p_value': 0.4337647759377383, 'drift_status': True},\n",
       " 'dx_000': {'p_value': 0.25637872437130615, 'drift_status': True},\n",
       " 'dy_000': {'p_value': 0.5136302450496373, 'drift_status': False},\n",
       " 'dz_000': {'p_value': 0.9999999999999993, 'drift_status': False},\n",
       " 'ea_000': {'p_value': 1.0, 'drift_status': False},\n",
       " 'eb_000': {'p_value': 0.18687433599590286, 'drift_status': True},\n",
       " 'ec_00': {'p_value': 0.7063062039669596, 'drift_status': False},\n",
       " 'ed_000': {'p_value': 0.3816999283667798, 'drift_status': True},\n",
       " 'ee_000': {'p_value': 0.05579510714233071, 'drift_status': True},\n",
       " 'ee_001': {'p_value': 0.5288567207994983, 'drift_status': False},\n",
       " 'ee_002': {'p_value': 0.5734781344015554, 'drift_status': False},\n",
       " 'ee_003': {'p_value': 0.6058493847597444, 'drift_status': False},\n",
       " 'ee_004': {'p_value': 0.5059853963853255, 'drift_status': False},\n",
       " 'ee_005': {'p_value': 0.6712104055737351, 'drift_status': False},\n",
       " 'ee_006': {'p_value': 0.8282658978782576, 'drift_status': False},\n",
       " 'ee_007': {'p_value': 0.7431213904139108, 'drift_status': False},\n",
       " 'ee_008': {'p_value': 0.4123971270969168, 'drift_status': True},\n",
       " 'ee_009': {'p_value': 0.7383477285260478, 'drift_status': False},\n",
       " 'ef_000': {'p_value': 0.9999999999999666, 'drift_status': False},\n",
       " 'eg_000': {'p_value': 0.9999999999831959, 'drift_status': False}}"
      ]
     },
     "execution_count": 37,
     "metadata": {},
     "output_type": "execute_result"
    }
   ],
   "source": [
    "get_drift_report(train_df,test_df)"
   ]
  },
  {
   "cell_type": "code",
   "execution_count": 2,
   "metadata": {},
   "outputs": [
    {
     "ename": "ModuleNotFoundError",
     "evalue": "No module named 'sensor'",
     "output_type": "error",
     "traceback": [
      "\u001b[1;31m---------------------------------------------------------------------------\u001b[0m",
      "\u001b[1;31mModuleNotFoundError\u001b[0m                       Traceback (most recent call last)",
      "\u001b[1;32md:\\PW project\\sensor_fault_detection\\sensor-fault-detection\\notebook\\Scania_APS_failure_prediction.ipynb Cell 16\u001b[0m in \u001b[0;36m<cell line: 1>\u001b[1;34m()\u001b[0m\n\u001b[1;32m----> <a href='vscode-notebook-cell:/d%3A/PW%20project/sensor_fault_detection/sensor-fault-detection/notebook/Scania_APS_failure_prediction.ipynb#X21sZmlsZQ%3D%3D?line=0'>1</a>\u001b[0m \u001b[39mfrom\u001b[39;00m \u001b[39msensor\u001b[39;00m\u001b[39m.\u001b[39;00m\u001b[39mutils\u001b[39;00m\u001b[39m.\u001b[39;00m\u001b[39mmain_utils\u001b[39;00m \u001b[39mimport\u001b[39;00m write_yaml_file\n",
      "\u001b[1;31mModuleNotFoundError\u001b[0m: No module named 'sensor'"
     ]
    }
   ],
   "source": [
    "from sensor.utils.main_utils import write_yaml_file"
   ]
  },
  {
   "cell_type": "code",
   "execution_count": 1,
   "metadata": {},
   "outputs": [],
   "source": [
    "import ntpath"
   ]
  },
  {
   "cell_type": "code",
   "execution_count": null,
   "metadata": {},
   "outputs": [],
   "source": [
    "ntpath.join()"
   ]
  }
 ],
 "metadata": {
  "kernelspec": {
   "display_name": "Python 3",
   "language": "python",
   "name": "python3"
  },
  "language_info": {
   "codemirror_mode": {
    "name": "ipython",
    "version": 3
   },
   "file_extension": ".py",
   "mimetype": "text/x-python",
   "name": "python",
   "nbconvert_exporter": "python",
   "pygments_lexer": "ipython3",
   "version": "3.9.12"
  },
  "orig_nbformat": 4
 },
 "nbformat": 4,
 "nbformat_minor": 2
}
